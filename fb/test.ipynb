{
 "cells": [
  {
   "cell_type": "code",
   "execution_count": 24,
   "id": "ecec3d6c",
   "metadata": {},
   "outputs": [],
   "source": [
    "import numpy as np\n",
    "def are_they_equal(array_a, array_b):\n",
    "  return (np.sort(np.array(array_a))==np.sort(np.array(array_b))).all()"
   ]
  },
  {
   "cell_type": "code",
   "execution_count": 28,
   "id": "1da5d484",
   "metadata": {},
   "outputs": [
    {
     "name": "stdout",
     "output_type": "stream",
     "text": [
      "All tests passed...\n"
     ]
    }
   ],
   "source": [
    "from nose.tools import assert_equal\n",
    "import traceback\n",
    "\n",
    "class SolutionTest(object):\n",
    "    def test(self, sol):\n",
    "        a_1 = [1, 2, 3, 4]\n",
    "        b_1 = [1, 4, 3, 2]\n",
    "        expected_1 = True      \n",
    "        a_2 = [1, 2, 3, 4]\n",
    "        b_2 = [1, 2, 3, 5]  \n",
    "        expected_2 = False\n",
    "        try:\n",
    "            assert_equal(sol(a_1,b_1),expected_1)\n",
    "            assert_equal(sol(a_2,b_2),expected_2)\n",
    "        except Exception as e:      \n",
    "            print(\"Tests did not passed... Exception: {}.\".format(traceback.format_exc()))     \n",
    "        else:            \n",
    "            print(\"All tests passed...\")\n",
    "            \n",
    "t = SolutionTest()    \n",
    "t.test(are_they_equal)"
   ]
  },
  {
   "cell_type": "code",
   "execution_count": null,
   "id": "9bf2767b",
   "metadata": {},
   "outputs": [],
   "source": []
  }
 ],
 "metadata": {
  "kernelspec": {
   "display_name": "Python 3 (ipykernel)",
   "language": "python",
   "name": "python3"
  },
  "language_info": {
   "codemirror_mode": {
    "name": "ipython",
    "version": 3
   },
   "file_extension": ".py",
   "mimetype": "text/x-python",
   "name": "python",
   "nbconvert_exporter": "python",
   "pygments_lexer": "ipython3",
   "version": "3.10.4"
  }
 },
 "nbformat": 4,
 "nbformat_minor": 5
}
